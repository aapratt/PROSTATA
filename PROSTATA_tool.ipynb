{
  "cells": [
    {
      "cell_type": "markdown",
      "metadata": {
        "id": "view-in-github",
        "colab_type": "text"
      },
      "source": [
        "<a href=\"https://colab.research.google.com/github/aapratt/PROSTATA/blob/main/PROSTATA_tool.ipynb\" target=\"_parent\"><img src=\"https://colab.research.google.com/assets/colab-badge.svg\" alt=\"Open In Colab\"/></a>"
      ]
    },
    {
      "cell_type": "markdown",
      "metadata": {
        "id": "f59Ujuujn___"
      },
      "source": [
        "Code is provided according with Creative Commons Attribution-NonCommercial-ShareAlike 4.0 International Public License\n",
        "# Install dependecies and download weights"
      ]
    },
    {
      "cell_type": "code",
      "execution_count": 1,
      "metadata": {
        "colab": {
          "base_uri": "https://localhost:8080/"
        },
        "id": "apiUcTpNTnlU",
        "outputId": "a912369d-355a-4bd0-8813-891c498fa58b",
        "scrolled": true
      },
      "outputs": [
        {
          "output_type": "stream",
          "name": "stdout",
          "text": [
            "Collecting fair-esm\n",
            "  Downloading fair_esm-2.0.0-py3-none-any.whl (93 kB)\n",
            "\u001b[2K     \u001b[90m━━━━━━━━━━━━━━━━━━━━━━━━━━━━━━━━━━━━━━━━\u001b[0m \u001b[32m93.1/93.1 kB\u001b[0m \u001b[31m2.0 MB/s\u001b[0m eta \u001b[36m0:00:00\u001b[0m\n",
            "\u001b[?25hInstalling collected packages: fair-esm\n",
            "Successfully installed fair-esm-2.0.0\n",
            "Collecting biopython\n",
            "  Downloading biopython-1.83-cp310-cp310-manylinux_2_17_x86_64.manylinux2014_x86_64.whl (3.1 MB)\n",
            "\u001b[2K     \u001b[90m━━━━━━━━━━━━━━━━━━━━━━━━━━━━━━━━━━━━━━━━\u001b[0m \u001b[32m3.1/3.1 MB\u001b[0m \u001b[31m33.1 MB/s\u001b[0m eta \u001b[36m0:00:00\u001b[0m\n",
            "\u001b[?25hRequirement already satisfied: numpy in /usr/local/lib/python3.10/dist-packages (from biopython) (1.25.2)\n",
            "Installing collected packages: biopython\n",
            "Successfully installed biopython-1.83\n"
          ]
        }
      ],
      "source": [
        "!pip install fair-esm\n",
        "!pip install biopython"
      ]
    },
    {
      "cell_type": "code",
      "execution_count": 2,
      "metadata": {
        "id": "Bsyfz4BrSxMN"
      },
      "outputs": [],
      "source": [
        "from io import StringIO, BytesIO\n",
        "from urllib.request import urlretrieve\n",
        "\n",
        "import numpy as np\n",
        "import torch\n",
        "from torch import nn\n",
        "import esm\n",
        "from esm.pretrained import load_model_and_alphabet_hub\n",
        "from Bio import SeqIO"
      ]
    },
    {
      "cell_type": "code",
      "execution_count": 3,
      "metadata": {
        "id": "N3Pjcm9HvRMC"
      },
      "outputs": [],
      "source": [
        "model_names = [\n",
        "    \"ESMForSingleMutationPosOuter\",\n",
        "    \"ESMForSingleMutationPosConcat\",\n",
        "    \"ESMForSingleMutation_pos_cat_cls\",\n",
        "    \"ESMForSingleMutation_pos\",\n",
        "    \"ESMForSingleMutation_cls\",\n",
        "]"
      ]
    },
    {
      "cell_type": "code",
      "execution_count": 4,
      "metadata": {
        "id": "FZvVzBuf_e1q"
      },
      "outputs": [],
      "source": [
        "for model_name in model_names:\n",
        "    urlretrieve(\n",
        "        f\"https://a025generative-modeling-for-design.obs.ru-moscow-1.hc.sbercloud.ru/prostata/mix_ds_s669_weights/{model_name}_mix_ds_s669\",\n",
        "        model_name,\n",
        "    )"
      ]
    },
    {
      "cell_type": "code",
      "execution_count": 5,
      "metadata": {
        "id": "hYLdBMG7UUx3"
      },
      "outputs": [],
      "source": [
        "import torch.nn.functional as F\n",
        "\n",
        "HIDDEN_UNITS_POS_CONTACT = 5\n",
        "\n",
        "\n",
        "class ESMForSingleMutationPosConcat(nn.Module):\n",
        "    def __init__(self):\n",
        "        super().__init__()\n",
        "        self.esm2, _ = esm.pretrained.esm2_t33_650M_UR50D()\n",
        "        self.fc1 = nn.Linear(1280 * 2, HIDDEN_UNITS_POS_CONTACT)\n",
        "        self.fc2 = nn.Linear(HIDDEN_UNITS_POS_CONTACT, 1)\n",
        "\n",
        "    def forward(self, token_ids1, token_ids2, pos):\n",
        "        outputs1 = self.esm2.forward(token_ids1, repr_layers=[33])[\"representations\"][33]\n",
        "        outputs2 = self.esm2.forward(token_ids2, repr_layers=[33])[\"representations\"][33]\n",
        "        outputs1_pos = outputs1[:, pos + 1]\n",
        "        outputs2_pos = outputs2[:, pos + 1]\n",
        "        outputs_pos_concat = torch.cat((outputs1_pos, outputs2_pos), 2)\n",
        "        fc1_outputs = F.relu(self.fc1(outputs_pos_concat))\n",
        "        logits = self.fc2(fc1_outputs)\n",
        "        return logits\n",
        "\n",
        "\n",
        "HIDDEN_UNITS_POS_OUTER = 5\n",
        "\n",
        "\n",
        "class ESMForSingleMutationPosOuter(nn.Module):\n",
        "    def __init__(self):\n",
        "        super().__init__()\n",
        "        self.esm2, _ = esm.pretrained.esm2_t33_650M_UR50D()\n",
        "        self._freeze_esm2_layers()\n",
        "        self.fc1 = nn.Linear(1280 * 1280, HIDDEN_UNITS_POS_OUTER)\n",
        "        self.fc2 = nn.Linear(HIDDEN_UNITS_POS_OUTER, 1)\n",
        "\n",
        "    def _freeze_esm2_layers(self):\n",
        "        total_blocks = 33\n",
        "        initial_layers = 2\n",
        "        layers_per_block = 16\n",
        "        num_freeze_blocks = total_blocks - 3\n",
        "        for _, param in list(self.esm2.named_parameters())[: initial_layers + layers_per_block * num_freeze_blocks]:\n",
        "            param.requires_grad = False\n",
        "\n",
        "    def forward(self, token_ids1, token_ids2, pos):\n",
        "        outputs1 = self.esm2.forward(token_ids1, repr_layers=[33])[\"representations\"][33]\n",
        "        outputs2 = self.esm2.forward(token_ids2, repr_layers=[33])[\"representations\"][33]\n",
        "        outputs1_pos = outputs1[:, pos + 1]\n",
        "        outputs2_pos = outputs2[:, pos + 1]\n",
        "        outer_prod = outputs1_pos.unsqueeze(3) @ outputs2_pos.unsqueeze(2)\n",
        "        outer_prod_view = outer_prod.view(outer_prod.shape[0], outer_prod.shape[1], -1)\n",
        "        fc1_outputs = F.relu(self.fc1(outer_prod_view))\n",
        "        logits = self.fc2(fc1_outputs)\n",
        "        return logits\n",
        "\n",
        "\n",
        "class ESMForSingleMutation_pos(nn.Module):\n",
        "    def __init__(self):\n",
        "        super().__init__()\n",
        "        self.esm1v, self.esm1v_alphabet = esm.pretrained.esm2_t33_650M_UR50D()\n",
        "        self.classifier = nn.Linear(1280, 1)\n",
        "        self.const1 = torch.nn.Parameter(torch.ones((1, 1280)))\n",
        "        self.const2 = torch.nn.Parameter(-1 * torch.ones((1, 1280)))\n",
        "\n",
        "    def forward(self, token_ids1, token_ids2, pos):\n",
        "        outputs1 = self.esm1v.forward(token_ids1, repr_layers=[33])[\"representations\"][33]\n",
        "        outputs2 = self.esm1v.forward(token_ids2, repr_layers=[33])[\"representations\"][33]\n",
        "        outputs = self.const1 * outputs1[:, pos + 1, :] + self.const2 * outputs2[:, pos + 1, :]\n",
        "        logits = self.classifier(outputs)\n",
        "        return logits\n",
        "\n",
        "\n",
        "class ESMForSingleMutation_cls(nn.Module):\n",
        "    def __init__(self):\n",
        "        super().__init__()\n",
        "        self.esm1v, self.esm1v_alphabet = esm.pretrained.esm2_t33_650M_UR50D()\n",
        "        self.classifier = nn.Linear(1280, 1)\n",
        "        self.const1 = torch.nn.Parameter(torch.ones((1, 1280)))\n",
        "        self.const2 = torch.nn.Parameter(-1 * torch.ones((1, 1280)))\n",
        "\n",
        "    def forward(self, token_ids1, token_ids2, pos):\n",
        "        outputs1 = self.esm1v.forward(token_ids1, repr_layers=[33])[\"representations\"][33]\n",
        "        outputs2 = self.esm1v.forward(token_ids2, repr_layers=[33])[\"representations\"][33]\n",
        "        outputs = self.const1 * outputs1[:, 0, :] + self.const2 * outputs2[:, 0, :]\n",
        "        logits = self.classifier(outputs.unsqueeze(0))\n",
        "        return logits\n",
        "\n",
        "\n",
        "class ESMForSingleMutation_pos_cat_cls(nn.Module):\n",
        "    def __init__(self):\n",
        "        super().__init__()\n",
        "        self.esm1v, self.esm1v_alphabet = esm.pretrained.esm2_t33_650M_UR50D()\n",
        "        self.classifier = nn.Linear(1280 * 2, 1)\n",
        "        self.const1 = torch.nn.Parameter(torch.ones((1, 1280)))\n",
        "        self.const2 = torch.nn.Parameter(-1 * torch.ones((1, 1280)))\n",
        "\n",
        "    def forward(self, token_ids1, token_ids2, pos):\n",
        "        outputs1 = self.esm1v.forward(token_ids1, repr_layers=[33])[\"representations\"][33]\n",
        "        outputs2 = self.esm1v.forward(token_ids2, repr_layers=[33])[\"representations\"][33]\n",
        "        cls_out = self.const1 * outputs1[:, 0, :] + self.const2 * outputs2[:, 0, :]\n",
        "        pos_out = self.const1 * outputs1[:, pos + 1, :] + self.const2 * outputs2[:, pos + 1, :]\n",
        "        outputs = torch.cat([cls_out.unsqueeze(0), pos_out], axis=-1)\n",
        "        logits = self.classifier(outputs)\n",
        "        return logits"
      ]
    },
    {
      "cell_type": "markdown",
      "metadata": {
        "id": "TAp3NQyaupxE"
      },
      "source": [
        "# Compute DeltaDDG"
      ]
    },
    {
      "cell_type": "code",
      "execution_count": 25,
      "metadata": {
        "id": "SUc_OUhs_e1s"
      },
      "outputs": [],
      "source": [
        "# Hardcoded seq from p53 use for testing\n",
        "seq = \"MGSSHHHHHHSSGLVPRGSHMVKLTLSALPALSPAVAVPAYDPRAQIPGIVHFGVGAFHRSHQAMYLDRLLNSGRGAGWAICGVGVLPQDARMRDVLAEQDHLYTLVTRSPDGQAQARVIGAIVEFLFAPDDPERVLERLADPTTRIVSLTVTEGGYSVSNATGEFDPTPPDIAHDLTPGAVPRTFFGFLTEGLRRRRERGLPPFTVVSCDNMPGNGEVTRRALTAFARLQDPELGDWIAHNVAFPNSMVDRITPATTEQDRQDIAAAYGIEDAWPVVAESFAQWVLEDRFTQGRPALETVGVQVVSDVEPYELMKLRLLNASHQALAYLGLLAGYRFVHEVCQDPLFARFLLDYMTQEATPTLRPVPGIDLGAYRRELIARFSNPAIRDPLTRLTVDSSERIPKFLLPVIRDQLARGGELARCALVIASWRAYLATVLEEGSASFPDQHAQALAEAVRRDAQQPGAFLDLEAVFGELGRNARFRTAYLSAWESLRRQGPLGAMRALMGEESSPSNVTSLSGR\"  # @param {type:\"string\"}\n",
        "mutation_code = \"Q46V\"  # @param {type:\"string\"}"
      ]
    },
    {
      "cell_type": "code",
      "source": [
        "seq = \"MGSSHHHHHHSSGLVPRGSHMVKLTLSALPALSPAVAVPAYDPRAQIPGIVHFGVGAFHRSHQAMYLDRLLNSGRGAGWAICGVGVLPQDARMRDVLAEQDHLYTLVTRSPDGQAQARVIGAIVEFLFAPDDPERVLERLADPTTRIVSLTVTEGGYSVSNATGEFDPTPPDIAHDLTPGAVPRTFFGFLTEGLRRRRERGLPPFTVVSCDNMPGNGEVTRRALTAFARLQDPELGDWIAHNVAFPNSMVDRITPATTEQDRQDIAAAYGIEDAWPVVAESFAQWVLEDRFTQGRPALETVGVQVVSDVEPYELMKLRLLNASHQALAYLGLLAGYRFVHEVCQDPLFARFLLDYMTQEATPTLRPVPGIDLGAYRRELIARFSNPAIRDPLTRLTVDSSERIPKFLLPVIRDQLARGGELARCALVIASWRAYLATVLEEGSASFPDQHAQALAEAVRRDAQQPGAFLDLEAVFGELGRNARFRTAYLSAWESLRRQGPLGAMRALMGEESSPSNVTSLSGR\"\n",
        "\n",
        "#['Q46V', 'Q231K', 'A268R', 'A283T', 'A297P', 'R432A', 'T437G', 'Q449R']\n",
        "mutation_codes = ['Q46V','A297P','Q449R']"
      ],
      "metadata": {
        "id": "Aa6zrZelI10U"
      },
      "execution_count": 15,
      "outputs": []
    },
    {
      "cell_type": "code",
      "execution_count": 26,
      "metadata": {
        "id": "rJGnMox7_e1s"
      },
      "outputs": [],
      "source": [
        "# Get wildtype sequence, mutation position and mutated sequence\n",
        "wt_aa = mutation_code[0]\n",
        "mut_aa = mutation_code[-1]\n",
        "mut_pos = int(mutation_code[1:-1]) - 1\n",
        "\n",
        "wt = seq\n",
        "tt = list(seq)\n",
        "tt[mut_pos] = mut_aa\n",
        "mut = \"\".join(tt)\n",
        "\n",
        "model = torch.load(\"ESMForSingleMutation_cls\", map_location=torch.device(\"cpu\"))\n",
        "esm2_alphabet = model.esm1v_alphabet\n",
        "esm2batch_converter = esm2_alphabet.get_batch_converter()\n",
        "_, _, esm2_batch_tokens1 = esm2batch_converter([(\"\", wt[:1022])])\n",
        "_, _, esm2_batch_tokens2 = esm2batch_converter([(\"\", mut[:1022])])\n",
        "esm2_batch_tokens1 = esm2_batch_tokens1.cuda()\n",
        "esm2_batch_tokens2 = esm2_batch_tokens2.cuda()"
      ]
    },
    {
      "cell_type": "code",
      "source": [
        "# compute one multi-point mutation\n",
        "seq = \"MGSSHHHHHHSSGLVPRGSHMVKLTLSALPALSPAVAVPAYDPRAQIPGIVHFGVGAFHRSHQAMYLDRLLNSGRGAGWAICGVGVLPQDARMRDVLAEQDHLYTLVTRSPDGQAQARVIGAIVEFLFAPDDPERVLERLADPTTRIVSLTVTEGGYSVSNATGEFDPTPPDIAHDLTPGAVPRTFFGFLTEGLRRRRERGLPPFTVVSCDNMPGNGEVTRRALTAFARLQDPELGDWIAHNVAFPNSMVDRITPATTEQDRQDIAAAYGIEDAWPVVAESFAQWVLEDRFTQGRPALETVGVQVVSDVEPYELMKLRLLNASHQALAYLGLLAGYRFVHEVCQDPLFARFLLDYMTQEATPTLRPVPGIDLGAYRRELIARFSNPAIRDPLTRLTVDSSERIPKFLLPVIRDQLARGGELARCALVIASWRAYLATVLEEGSASFPDQHAQALAEAVRRDAQQPGAFLDLEAVFGELGRNARFRTAYLSAWESLRRQGPLGAMRALMGEESSPSNVTSLSGR\"\n",
        "\n",
        "#['Q46V', 'Q231K', 'A268R', 'A283T', 'A297P', 'R432A', 'T437G', 'Q449R']\n",
        "mutation_codes = ['Q46V','A297P','Q449R']\n",
        "\n",
        "seq_list=[]\n",
        "res_list=[]\n",
        "for x in mutation_codes:\n",
        "    wt_aa = x[0]\n",
        "    mut_aa = x[-1]\n",
        "    mut_pos = int(x[1:-1]) - 1\n",
        "\n",
        "    wt = seq\n",
        "    tt = list(seq)\n",
        "    tt[mut_pos] = mut_aa\n",
        "    mut = \"\".join(tt)\n",
        "    print(mut)\n",
        "    #seq_list.append(mut)\n",
        "    seq=mut\n",
        "\n",
        "    model = torch.load(\"ESMForSingleMutation_cls\", map_location=torch.device(\"cpu\"))\n",
        "    esm2_alphabet = model.esm1v_alphabet\n",
        "    esm2batch_converter = esm2_alphabet.get_batch_converter()\n",
        "    _, _, esm2_batch_tokens1 = esm2batch_converter([(\"\", wt[:1022])])\n",
        "    _, _, esm2_batch_tokens2 = esm2batch_converter([(\"\", mut[:1022])])\n",
        "    esm2_batch_tokens1 = esm2_batch_tokens1.cuda()\n",
        "    esm2_batch_tokens2 = esm2_batch_tokens2.cuda()\n",
        "\n",
        "    res = []\n",
        "    for model_name in model_names:\n",
        "        model = torch.load(model_name, map_location=torch.device(\"cpu\"))\n",
        "        model.eval()\n",
        "        model.cuda()\n",
        "\n",
        "        with torch.no_grad():\n",
        "            res.append(\n",
        "                model(token_ids1=esm2_batch_tokens1, token_ids2=esm2_batch_tokens2, pos=torch.LongTensor([mut_pos]))\n",
        "                .cpu()\n",
        "                .numpy()\n",
        "            )\n",
        "        print(f\"Model {model_name} DDG prediction is {-1*res[-1][0,0,0]}\")\n",
        "    res = np.mean(res)\n",
        "    print(f\"Predicted DDG for the mutation {x} is {-1*res}\")\n",
        "    res_list.append(res)\n",
        "\n",
        "sumres=sum(res_list)\n",
        "print(f\"Predicted DDG for the mutations {mutation_codes} is {-1*sumres}\")\n"
      ],
      "metadata": {
        "colab": {
          "base_uri": "https://localhost:8080/"
        },
        "id": "86FdUOYXMWH_",
        "outputId": "884ee25b-ad9b-4a6e-9271-6a18532155e0"
      },
      "execution_count": 31,
      "outputs": [
        {
          "output_type": "stream",
          "name": "stdout",
          "text": [
            "MGSSHHHHHHSSGLVPRGSHMVKLTLSALPALSPAVAVPAYDPRAVIPGIVHFGVGAFHRSHQAMYLDRLLNSGRGAGWAICGVGVLPQDARMRDVLAEQDHLYTLVTRSPDGQAQARVIGAIVEFLFAPDDPERVLERLADPTTRIVSLTVTEGGYSVSNATGEFDPTPPDIAHDLTPGAVPRTFFGFLTEGLRRRRERGLPPFTVVSCDNMPGNGEVTRRALTAFARLQDPELGDWIAHNVAFPNSMVDRITPATTEQDRQDIAAAYGIEDAWPVVAESFAQWVLEDRFTQGRPALETVGVQVVSDVEPYELMKLRLLNASHQALAYLGLLAGYRFVHEVCQDPLFARFLLDYMTQEATPTLRPVPGIDLGAYRRELIARFSNPAIRDPLTRLTVDSSERIPKFLLPVIRDQLARGGELARCALVIASWRAYLATVLEEGSASFPDQHAQALAEAVRRDAQQPGAFLDLEAVFGELGRNARFRTAYLSAWESLRRQGPLGAMRALMGEESSPSNVTSLSGR\n",
            "Model ESMForSingleMutationPosOuter DDG prediction is -2.270242214202881\n",
            "Model ESMForSingleMutationPosConcat DDG prediction is -1.2209725379943848\n",
            "Model ESMForSingleMutation_pos_cat_cls DDG prediction is -2.0761771202087402\n",
            "Model ESMForSingleMutation_pos DDG prediction is -2.2429118156433105\n",
            "Model ESMForSingleMutation_cls DDG prediction is -0.16187715530395508\n",
            "Predicted DDG for the mutation Q46V is -1.5944361686706543\n",
            "MGSSHHHHHHSSGLVPRGSHMVKLTLSALPALSPAVAVPAYDPRAVIPGIVHFGVGAFHRSHQAMYLDRLLNSGRGAGWAICGVGVLPQDARMRDVLAEQDHLYTLVTRSPDGQAQARVIGAIVEFLFAPDDPERVLERLADPTTRIVSLTVTEGGYSVSNATGEFDPTPPDIAHDLTPGAVPRTFFGFLTEGLRRRRERGLPPFTVVSCDNMPGNGEVTRRALTAFARLQDPELGDWIAHNVAFPNSMVDRITPATTEQDRQDIAAAYGIEDAWPVVAESFAQWVLEDRFTQGRPPLETVGVQVVSDVEPYELMKLRLLNASHQALAYLGLLAGYRFVHEVCQDPLFARFLLDYMTQEATPTLRPVPGIDLGAYRRELIARFSNPAIRDPLTRLTVDSSERIPKFLLPVIRDQLARGGELARCALVIASWRAYLATVLEEGSASFPDQHAQALAEAVRRDAQQPGAFLDLEAVFGELGRNARFRTAYLSAWESLRRQGPLGAMRALMGEESSPSNVTSLSGR\n",
            "Model ESMForSingleMutationPosOuter DDG prediction is 0.25110286474227905\n",
            "Model ESMForSingleMutationPosConcat DDG prediction is -1.1301305294036865\n",
            "Model ESMForSingleMutation_pos_cat_cls DDG prediction is -0.9422258138656616\n",
            "Model ESMForSingleMutation_pos DDG prediction is -1.0950496196746826\n",
            "Model ESMForSingleMutation_cls DDG prediction is -0.039966389536857605\n",
            "Predicted DDG for the mutation A297P is -0.5912538766860962\n",
            "MGSSHHHHHHSSGLVPRGSHMVKLTLSALPALSPAVAVPAYDPRAVIPGIVHFGVGAFHRSHQAMYLDRLLNSGRGAGWAICGVGVLPQDARMRDVLAEQDHLYTLVTRSPDGQAQARVIGAIVEFLFAPDDPERVLERLADPTTRIVSLTVTEGGYSVSNATGEFDPTPPDIAHDLTPGAVPRTFFGFLTEGLRRRRERGLPPFTVVSCDNMPGNGEVTRRALTAFARLQDPELGDWIAHNVAFPNSMVDRITPATTEQDRQDIAAAYGIEDAWPVVAESFAQWVLEDRFTQGRPPLETVGVQVVSDVEPYELMKLRLLNASHQALAYLGLLAGYRFVHEVCQDPLFARFLLDYMTQEATPTLRPVPGIDLGAYRRELIARFSNPAIRDPLTRLTVDSSERIPKFLLPVIRDQLARGGELARCALVIASWRAYLATVLEEGSASFPDRHAQALAEAVRRDAQQPGAFLDLEAVFGELGRNARFRTAYLSAWESLRRQGPLGAMRALMGEESSPSNVTSLSGR\n",
            "Model ESMForSingleMutationPosOuter DDG prediction is 0.3787887990474701\n",
            "Model ESMForSingleMutationPosConcat DDG prediction is -0.05466228723526001\n",
            "Model ESMForSingleMutation_pos_cat_cls DDG prediction is 0.06512109190225601\n",
            "Model ESMForSingleMutation_pos DDG prediction is -0.21504035592079163\n",
            "Model ESMForSingleMutation_cls DDG prediction is 0.018370701000094414\n",
            "Predicted DDG for the mutation Q449R is 0.038515590131282806\n",
            "Predicted DDG for the mutations ['Q46V', 'A297P', 'Q449R'] is -2.1471744552254677\n"
          ]
        }
      ]
    },
    {
      "cell_type": "markdown",
      "source": [],
      "metadata": {
        "id": "Z8i-p1v9ezDq"
      }
    },
    {
      "cell_type": "code",
      "source": [
        "tm_best=[['Q46V', 'A268R', 'A283T', 'A297P', 'R432A', 'Q449R'],\n",
        "['Q46V', 'A268R', 'A297P', 'R432A', 'Q449R'],\n",
        "['Q46V', 'Q231K', 'A283T', 'A297P', 'R432A', 'Q449R'],\n",
        "['Q46V', 'Q231K', 'A268R', 'A283T', 'A297P', 'R432A'],\n",
        "['Q46V', 'A283T', 'A297P', 'R432A', 'Q449R'],\n",
        "['Q46V', 'Q231K', 'A268R', 'A297P', 'R432A', 'Q449R'],\n",
        "['Q46V', 'A268R', 'A283T', 'A297P', 'R432A'],\n",
        "['Q46V', 'Q231K', 'A268R', 'A297P', 'R432A'],\n",
        "['Q46V', 'Q231K', 'A268R', 'A283T', 'A297P', 'R432A', 'Q449R'],\n",
        "['Q46V', 'Q231K', 'A297P', 'R432A', 'Q449R'],\n",
        "['Q46V', 'A268R', 'A297P', 'R432A'],\n",
        "['Q46V', 'A297P', 'R432A', 'Q449R'],\n",
        "['Q46V', 'Q231K', 'A283T', 'A297P', 'R432A'],\n",
        "['Q46V', 'Q231K', 'A297P', 'R432A'],\n",
        "['Q46V', 'A283T', 'A297P', 'R432A'],\n",
        "['Q231K', 'A268R', 'A283T', 'A297P', 'R432A', 'Q449R'],\n",
        "['Q231K', 'A268R', 'A297P', 'R432A', 'Q449R'],\n",
        "['Q46V', 'A297P', 'R432A'],\n",
        "['Q46V', 'Q231K', 'A268R', 'A283T', 'R432A', 'Q449R'],\n",
        "['Q46V', 'Q231K', 'A268R', 'R432A', 'Q449R'],\n",
        "['Q46V', 'A268R', 'A283T', 'A297P', 'Q449R']]\n",
        "\n"
      ],
      "metadata": {
        "id": "dR44Bm1cbB5y"
      },
      "execution_count": 2,
      "outputs": []
    },
    {
      "cell_type": "code",
      "source": [],
      "metadata": {
        "id": "f55EbRYTbQJO"
      },
      "execution_count": null,
      "outputs": []
    },
    {
      "cell_type": "code",
      "source": [
        "#compute ddG for list of multi-point mutations\n",
        "\n",
        "#['Q46V', 'Q231K', 'A268R', 'A283T', 'A297P', 'R432A', 'T437G', 'Q449R']\n",
        "#mutation_codes = ['Q46V','A297P','Q449R']\n",
        "\n",
        "mutation_codes_list=tm_best\n",
        "total_list=[]\n",
        "\n",
        "for y in mutation_codes_list:\n",
        "    seq = \"MGSSHHHHHHSSGLVPRGSHMVKLTLSALPALSPAVAVPAYDPRAQIPGIVHFGVGAFHRSHQAMYLDRLLNSGRGAGWAICGVGVLPQDARMRDVLAEQDHLYTLVTRSPDGQAQARVIGAIVEFLFAPDDPERVLERLADPTTRIVSLTVTEGGYSVSNATGEFDPTPPDIAHDLTPGAVPRTFFGFLTEGLRRRRERGLPPFTVVSCDNMPGNGEVTRRALTAFARLQDPELGDWIAHNVAFPNSMVDRITPATTEQDRQDIAAAYGIEDAWPVVAESFAQWVLEDRFTQGRPALETVGVQVVSDVEPYELMKLRLLNASHQALAYLGLLAGYRFVHEVCQDPLFARFLLDYMTQEATPTLRPVPGIDLGAYRRELIARFSNPAIRDPLTRLTVDSSERIPKFLLPVIRDQLARGGELARCALVIASWRAYLATVLEEGSASFPDQHAQALAEAVRRDAQQPGAFLDLEAVFGELGRNARFRTAYLSAWESLRRQGPLGAMRALMGEESSPSNVTSLSGR\"\n",
        "    seq_list=[]\n",
        "    res_list=[]\n",
        "    print(y)\n",
        "    for x in y:\n",
        "        wt_aa = x[0]\n",
        "        mut_aa = x[-1]\n",
        "        mut_pos = int(x[1:-1]) - 1\n",
        "\n",
        "        wt = seq\n",
        "        tt = list(seq)\n",
        "        tt[mut_pos] = mut_aa\n",
        "        mut = \"\".join(tt)\n",
        "        #print(mut)\n",
        "        #seq_list.append(mut)\n",
        "        seq=mut\n",
        "\n",
        "        model = torch.load(\"ESMForSingleMutation_cls\", map_location=torch.device(\"cpu\"))\n",
        "        esm2_alphabet = model.esm1v_alphabet\n",
        "        esm2batch_converter = esm2_alphabet.get_batch_converter()\n",
        "        _, _, esm2_batch_tokens1 = esm2batch_converter([(\"\", wt[:1022])])\n",
        "        _, _, esm2_batch_tokens2 = esm2batch_converter([(\"\", mut[:1022])])\n",
        "        esm2_batch_tokens1 = esm2_batch_tokens1.cuda()\n",
        "        esm2_batch_tokens2 = esm2_batch_tokens2.cuda()\n",
        "\n",
        "        res = []\n",
        "        for model_name in model_names:\n",
        "            model = torch.load(model_name, map_location=torch.device(\"cpu\"))\n",
        "            model.eval()\n",
        "            model.cuda()\n",
        "\n",
        "            with torch.no_grad():\n",
        "                res.append(\n",
        "                    model(token_ids1=esm2_batch_tokens1, token_ids2=esm2_batch_tokens2, pos=torch.LongTensor([mut_pos]))\n",
        "                    .cpu()\n",
        "                    .numpy()\n",
        "                )\n",
        "            #print(f\"Model {model_name} DDG prediction is {-1*res[-1][0,0,0]}\")\n",
        "        res = np.mean(res)\n",
        "        print(f\"Predicted DDG for the mutation {x} is {-1*res}\")\n",
        "        res_list.append(res)\n",
        "\n",
        "    sumres=sum(res_list)\n",
        "    print(f\"Predicted DDG for the mutations {y} is {-1*sumres}\")\n",
        "    total_list.append(-1*sumres)\n",
        "    print(-1*sumres)\n",
        "print(total_list)\n"
      ],
      "metadata": {
        "outputId": "7ab3f31a-1d2a-4948-f71f-41a647aa960e",
        "colab": {
          "base_uri": "https://localhost:8080/",
          "height": 224
        },
        "id": "NLothRzGbTNm"
      },
      "execution_count": 3,
      "outputs": [
        {
          "output_type": "stream",
          "name": "stdout",
          "text": [
            "['Q46V', 'A268R', 'A283T', 'A297P', 'R432A', 'Q449R']\n"
          ]
        },
        {
          "output_type": "error",
          "ename": "NameError",
          "evalue": "name 'torch' is not defined",
          "traceback": [
            "\u001b[0;31m---------------------------------------------------------------------------\u001b[0m",
            "\u001b[0;31mNameError\u001b[0m                                 Traceback (most recent call last)",
            "\u001b[0;32m<ipython-input-3-fe708ba00d0c>\u001b[0m in \u001b[0;36m<cell line: 9>\u001b[0;34m()\u001b[0m\n\u001b[1;32m     25\u001b[0m         \u001b[0mseq\u001b[0m\u001b[0;34m=\u001b[0m\u001b[0mmut\u001b[0m\u001b[0;34m\u001b[0m\u001b[0;34m\u001b[0m\u001b[0m\n\u001b[1;32m     26\u001b[0m \u001b[0;34m\u001b[0m\u001b[0m\n\u001b[0;32m---> 27\u001b[0;31m         \u001b[0mmodel\u001b[0m \u001b[0;34m=\u001b[0m \u001b[0mtorch\u001b[0m\u001b[0;34m.\u001b[0m\u001b[0mload\u001b[0m\u001b[0;34m(\u001b[0m\u001b[0;34m\"ESMForSingleMutation_cls\"\u001b[0m\u001b[0;34m,\u001b[0m \u001b[0mmap_location\u001b[0m\u001b[0;34m=\u001b[0m\u001b[0mtorch\u001b[0m\u001b[0;34m.\u001b[0m\u001b[0mdevice\u001b[0m\u001b[0;34m(\u001b[0m\u001b[0;34m\"cpu\"\u001b[0m\u001b[0;34m)\u001b[0m\u001b[0;34m)\u001b[0m\u001b[0;34m\u001b[0m\u001b[0;34m\u001b[0m\u001b[0m\n\u001b[0m\u001b[1;32m     28\u001b[0m         \u001b[0mesm2_alphabet\u001b[0m \u001b[0;34m=\u001b[0m \u001b[0mmodel\u001b[0m\u001b[0;34m.\u001b[0m\u001b[0mesm1v_alphabet\u001b[0m\u001b[0;34m\u001b[0m\u001b[0;34m\u001b[0m\u001b[0m\n\u001b[1;32m     29\u001b[0m         \u001b[0mesm2batch_converter\u001b[0m \u001b[0;34m=\u001b[0m \u001b[0mesm2_alphabet\u001b[0m\u001b[0;34m.\u001b[0m\u001b[0mget_batch_converter\u001b[0m\u001b[0;34m(\u001b[0m\u001b[0;34m)\u001b[0m\u001b[0;34m\u001b[0m\u001b[0;34m\u001b[0m\u001b[0m\n",
            "\u001b[0;31mNameError\u001b[0m: name 'torch' is not defined"
          ]
        }
      ]
    },
    {
      "cell_type": "code",
      "execution_count": 29,
      "metadata": {
        "id": "_1qjq3i-VCEz",
        "colab": {
          "base_uri": "https://localhost:8080/"
        },
        "outputId": "fceaf66b-234c-4ab4-a5a8-acf3ec2a0d39"
      },
      "outputs": [
        {
          "output_type": "stream",
          "name": "stdout",
          "text": [
            "Model ESMForSingleMutationPosOuter DDG prediction is -2.270242214202881\n",
            "Model ESMForSingleMutationPosConcat DDG prediction is -1.2209725379943848\n",
            "Model ESMForSingleMutation_pos_cat_cls DDG prediction is -2.0761771202087402\n",
            "Model ESMForSingleMutation_pos DDG prediction is -2.2429118156433105\n",
            "Model ESMForSingleMutation_cls DDG prediction is -0.16187715530395508\n"
          ]
        }
      ],
      "source": [
        "res = []\n",
        "for model_name in model_names:\n",
        "    model = torch.load(model_name, map_location=torch.device(\"cpu\"))\n",
        "    model.eval()\n",
        "    model.cuda()\n",
        "\n",
        "    with torch.no_grad():\n",
        "        res.append(\n",
        "            model(token_ids1=esm2_batch_tokens1, token_ids2=esm2_batch_tokens2, pos=torch.LongTensor([mut_pos]))\n",
        "            .cpu()\n",
        "            .numpy()\n",
        "        )\n",
        "    print(f\"Model {model_name} DDG prediction is -{res[-1][0,0,0]}\")\n",
        "res = np.mean(res)"
      ]
    },
    {
      "cell_type": "code",
      "execution_count": 28,
      "metadata": {
        "id": "4by6H7tRdcQO",
        "colab": {
          "base_uri": "https://localhost:8080/"
        },
        "outputId": "8edf9426-94b2-4446-ddf4-98729de3a9a1"
      },
      "outputs": [
        {
          "output_type": "stream",
          "name": "stdout",
          "text": [
            "Predicted DDG for the mutation Q46V is 1.5944361686706543\n"
          ]
        }
      ],
      "source": [
        "print(f\"Predicted DDG for the mutation {mutation_code} is -{res}\")"
      ]
    }
  ],
  "metadata": {
    "accelerator": "GPU",
    "colab": {
      "name": "Protein Stability Assessment using Transformers",
      "provenance": [],
      "include_colab_link": true
    },
    "kernelspec": {
      "display_name": "Python 3 (ipykernel)",
      "language": "python",
      "name": "python3"
    },
    "language_info": {
      "codemirror_mode": {
        "name": "ipython",
        "version": 3
      },
      "file_extension": ".py",
      "mimetype": "text/x-python",
      "name": "python",
      "nbconvert_exporter": "python",
      "pygments_lexer": "ipython3",
      "version": "3.10.12"
    }
  },
  "nbformat": 4,
  "nbformat_minor": 0
}